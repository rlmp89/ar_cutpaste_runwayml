{
  "cells": [
    {
      "cell_type": "code",
      "metadata": {
        "id": "a7_7PNsbyx79",
        "colab_type": "code",
        "outputId": "7b7eea9e-602d-43bb-f0c2-d8001869190a",
        "colab": {
          "base_uri": "https://localhost:8080/",
          "height": 187
        }
      },
      "source": [
        "%cd /content/\n",
        "!git clone https://github.com/rlmp89/ar_cutpaste_runwayml.git\n",
        "! ./scripts/colab.sh"
      ],
      "execution_count": null,
      "outputs": []
    },
    {
      "cell_type": "markdown",
      "metadata": {
        "id": "9wNZwdLlfR2D",
        "colab_type": "text"
      },
      "source": [
        ""
      ]
    },
    {
      "cell_type": "code",
      "metadata": {
        "id": "wxJDZGbHzyC-",
        "colab_type": "code",
        "colab": {}
      },
      "source": [
        "%cd /content/ar_cutpaste_runwayml/server\n",
        "!python3 serve.py --ngrok --port 8081"
      ],
      "execution_count": null,
      "outputs": []
    }
  ],
  "metadata": {
    "colab": {
      "name": "basnet.ipynb",
      "provenance": [],
      "collapsed_sections": []
    },
    "kernelspec": {
      "name": "python3",
      "display_name": "Python 3"
    },
    "accelerator": "GPU"
  },
  "nbformat": 4,
  "nbformat_minor": 0
}